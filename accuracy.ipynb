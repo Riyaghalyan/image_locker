{
  "nbformat": 4,
  "nbformat_minor": 0,
  "metadata": {
    "colab": {
      "provenance": []
    },
    "kernelspec": {
      "name": "python3",
      "display_name": "Python 3"
    },
    "language_info": {
      "name": "python"
    }
  },
  "cells": [
    {
      "cell_type": "code",
      "source": [
        "import cv2\n"
      ],
      "metadata": {
        "id": "coD3e3zo9ale"
      },
      "execution_count": null,
      "outputs": []
    },
    {
      "cell_type": "code",
      "execution_count": null,
      "metadata": {
        "colab": {
          "base_uri": "https://localhost:8080/"
        },
        "id": "LohxTwzY116U",
        "outputId": "801f2e3d-7e3a-40c6-9a86-bce3838757c0"
      },
      "outputs": [
        {
          "output_type": "stream",
          "name": "stdout",
          "text": [
            "MSE: 3.728675\n",
            "SSIM: 0.9856879159787935\n",
            "IOU: 97.79615961507047\n"
          ]
        }
      ],
      "source": [
        "import cv2\n",
        "from skimage.metrics import mean_squared_error, structural_similarity\n",
        "import numpy as np\n",
        "\n",
        "# Intersection over Union (IOU) function\n",
        "def iou(original, decrypted):\n",
        "    intersection = np.logical_and(original, decrypted)\n",
        "    union = np.logical_or(original, decrypted)\n",
        "    iou_score = np.sum(intersection) / np.sum(union)\n",
        "    return iou_score\n",
        "\n",
        "# Load the original image\n",
        "original_image = cv2.imread('demos.jpg')\n",
        "\n",
        "# Load the decrypted image\n",
        "decrypted_image = cv2.imread('demos1.jpg')\n",
        "\n",
        "# Convert the images to grayscale\n",
        "original_gray = cv2.cvtColor(original_image, cv2.COLOR_BGR2GRAY)\n",
        "decrypted_gray = cv2.cvtColor(decrypted_image, cv2.COLOR_BGR2GRAY)\n",
        "\n",
        "# Calculate the MSE between the images\n",
        "mse = mean_squared_error(original_gray, decrypted_gray)\n",
        "\n",
        "# Calculate the SSIM between the images\n",
        "ssim = structural_similarity(original_gray, decrypted_gray)\n",
        "\n",
        "# Convert the images to binary\n",
        "original_binary = cv2.threshold(original_gray, 127, 255, cv2.THRESH_BINARY)[1]\n",
        "decrypted_binary = cv2.threshold(decrypted_gray, 127, 255, cv2.THRESH_BINARY)[1]\n",
        "\n",
        "# Calculate the IOU between the images\n",
        "iou_score = iou(original_binary, decrypted_binary)\n",
        "\n",
        "# Print the results\n",
        "print(f\"MSE: {mse}\")\n",
        "print(f\"SSIM: {ssim}\")\n",
        "print(f\"IOU: {iou_score*100}\")\n"
      ]
    }
  ]
}
